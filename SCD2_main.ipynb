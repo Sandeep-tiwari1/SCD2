{
 "cells": [
  {
   "cell_type": "code",
   "execution_count": 0,
   "metadata": {
    "application/vnd.databricks.v1+cell": {
     "cellMetadata": {
      "byteLimit": 2048000,
      "rowLimit": 10000
     },
     "inputWidgets": {},
     "nuid": "8e480dbf-b3d2-4207-a51d-9001e7546138",
     "showTitle": false,
     "title": ""
    }
   },
   "outputs": [],
   "source": [
    "%run \"/Src/Include/utility\""
   ]
  },
  {
   "cell_type": "markdown",
   "metadata": {
    "application/vnd.databricks.v1+cell": {
     "cellMetadata": {
      "byteLimit": 2048000,
      "rowLimit": 10000
     },
     "inputWidgets": {},
     "nuid": "2c35394d-7a23-4bb5-bc7a-94f96736651f",
     "showTitle": false,
     "title": ""
    }
   },
   "source": [
    "Running data set firt time"
   ]
  },
  {
   "cell_type": "code",
   "execution_count": 0,
   "metadata": {
    "application/vnd.databricks.v1+cell": {
     "cellMetadata": {
      "byteLimit": 2048000,
      "rowLimit": 10000
     },
     "inputWidgets": {},
     "nuid": "a8a52e66-331c-4bf9-83a2-e78d2e886443",
     "showTitle": false,
     "title": ""
    }
   },
   "outputs": [],
   "source": [
    "from pyspark. sql. functions import *\n",
    "from pyspark.sql.window import Window\n",
    "win = Window.orderBy('CustomerID')\n",
    "df = spark.read.format(\"csv\").options(header=True,inferSchema='True').load('/FileStore/tables/Input/Customer.csv') \\\n",
    "    .withColumn('Effective_start_date',date_format(current_date(), \"yyyy-MM-dd\")) \\\n",
    "    .withColumn('Effective_end_date',lit('2999-01-01')) \\\n",
    "    .withColumn('Current_flag',lit(True))\n",
    "\n",
    "df.write.mode('overwrite').options(header=True).format('parquet').save('/FileStore/tables/Output/Customer.parquet')"
   ]
  },
  {
   "cell_type": "code",
   "execution_count": 0,
   "metadata": {
    "application/vnd.databricks.v1+cell": {
     "cellMetadata": {
      "byteLimit": 2048000,
      "rowLimit": 10000
     },
     "inputWidgets": {},
     "nuid": "8462d5ad-293a-4298-87d6-6be195f78fd1",
     "showTitle": false,
     "title": ""
    }
   },
   "outputs": [],
   "source": [
    "df_currect = spark.read.format(\"csv\").options(header=True,inferSchema='True').load('/FileStore/tables/Customer-2.csv')\n",
    "\n",
    "df_history = spark.read.format(\"parquet\").options(header=True,inferSchema='True').load('/FileStore/tables/Output/Customer.parquet')\n",
    "\n",
    "Open_records = df_history.where(col(\"Current_flag\")==lit(True))\n",
    "type2_cols = [\"CompanyName\", \"EmailAddress\", \"Phone\", \"ZipCode\"]\n",
    "scd2_cols = [\"effective_date\",\"expiration_date\",\"current_flag\"]"
   ]
  },
  {
   "cell_type": "code",
   "execution_count": 0,
   "metadata": {
    "application/vnd.databricks.v1+cell": {
     "cellMetadata": {
      "byteLimit": 2048000,
      "rowLimit": 10000
     },
     "inputWidgets": {},
     "nuid": "666feba6-5b1b-4778-ba7f-c5432dcea1b2",
     "showTitle": false,
     "title": ""
    }
   },
   "outputs": [
    {
     "output_type": "stream",
     "name": "stdout",
     "output_type": "stream",
     "text": [
      "['CustomerID_history', 'Title_history', 'FirstName_history', 'LastName_history', 'CompanyName_history', 'EmailAddress_history', 'Phone_history', 'ZipCode_history', 'Effective_start_date_history', 'Effective_end_date_history', 'Current_flag_history', 'hash_md5_history']\n['CustomerID_Current', 'Title_Current', 'FirstName_Current', 'LastName_Current', 'CompanyName_Current', 'EmailAddress_Current', 'Phone_Current', 'ZipCode_Current', 'hash_md5_Current']\n"
     ]
    }
   ],
   "source": [
    "df_history_open_hash= column_suffix(get_hash(Open_records, type2_cols),suffix=\"_history\", append=True)\n",
    "df_current_hash = column_suffix(get_hash(df_currect, type2_cols),suffix=\"_Current\", append=True)"
   ]
  },
  {
   "cell_type": "code",
   "execution_count": 0,
   "metadata": {
    "application/vnd.databricks.v1+cell": {
     "cellMetadata": {
      "byteLimit": 2048000,
      "rowLimit": 10000
     },
     "inputWidgets": {},
     "nuid": "5b9564fc-8d8f-46bc-a36b-4629a398db6f",
     "showTitle": false,
     "title": ""
    }
   },
   "outputs": [
    {
     "output_type": "stream",
     "name": "stdout",
     "output_type": "stream",
     "text": [
      "Out[30]: '                    .withColumn(\\'Effective_start_date\\',date_format(current_date(), \"yyyy-MM-dd\"))     .withColumn(\\'Effective_end_date\\',lit(\\'2999-01-01\\'))     .withColumn(\\'Current_flag\\',lit(True)) '"
     ]
    }
   ],
   "source": [
    "df_result = df_history_open_hash.join(df_current_hash, col(\"CustomerID_current\") ==  col(\"CustomerID_history\"), how=\"full_outer\") \\\n",
    "    .withColumn(\"Action\",when(col(\"hash_md5_history\") ==  col(\"hash_md5_current\"),\"Nochange\") \\\n",
    "        .when(col(\"CustomerID_history\").isNull(),\"Insert\") \\\n",
    "            .when(col(\"CustomerID_Current\").isNull(),'Delete') \\\n",
    "                .otherwise(\"update\") )\n",
    "    \n",
    "'''\\\n",
    "                    .withColumn('Effective_start_date',date_format(current_date(), \"yyyy-MM-dd\")) \\\n",
    "    .withColumn('Effective_end_date',lit('2999-01-01')) \\\n",
    "    .withColumn('Current_flag',lit(True)) '''   \n",
    "\n",
    "#df_result.filter(col(\"CustomerID_Current\").isNull())"
   ]
  },
  {
   "cell_type": "code",
   "execution_count": 0,
   "metadata": {
    "application/vnd.databricks.v1+cell": {
     "cellMetadata": {
      "byteLimit": 2048000,
      "rowLimit": 10000
     },
     "inputWidgets": {},
     "nuid": "f9df3838-aac3-4b5a-83d1-dbb6d402eeb7",
     "showTitle": false,
     "title": ""
    }
   },
   "outputs": [
    {
     "output_type": "stream",
     "name": "stdout",
     "output_type": "stream",
     "text": [
      "+----------+-----+---------+--------+-----------+--------------------+-------------------+-------+--------------------+------------------+------------+\n|CustomerID|Title|FirstName|LastName|CompanyName|        EmailAddress|              Phone|ZipCode|Effective_start_date|Effective_end_date|Current_flag|\n+----------+-----+---------+--------+-----------+--------------------+-------------------+-------+--------------------+------------------+------------+\n|        14|  Mr.|   Pushpa|  Tiwari|    Walmart| rahuljain@gmail.com|       346-235-0222| 470139|          2023-08-26|        2999-01-01|        true|\n+----------+-----+---------+--------+-----------+--------------------+-------------------+-------+--------------------+------------------+------------+\n\n"
     ]
    }
   ],
   "source": [
    "Df_New_record = column_suffix(df_result.filter(col(\"Action\")==\"Insert\"),suffix=\"_Current\", append=False).select(df_currect.columns) \\\n",
    "    .withColumn('Effective_start_date',date_format(current_date(), \"yyyy-MM-dd\")) \\\n",
    "    .withColumn('Effective_end_date',lit('2999-01-01')) \\\n",
    "    .withColumn('Current_flag',lit(True))\n",
    "\n",
    "Df_New_record.show()\n"
   ]
  },
  {
   "cell_type": "code",
   "execution_count": 0,
   "metadata": {
    "application/vnd.databricks.v1+cell": {
     "cellMetadata": {
      "byteLimit": 2048000,
      "rowLimit": 10000
     },
     "inputWidgets": {},
     "nuid": "68eed882-8c69-4842-acc6-b6030dfe1036",
     "showTitle": false,
     "title": ""
    }
   },
   "outputs": [
    {
     "output_type": "stream",
     "name": "stdout",
     "output_type": "stream",
     "text": [
      "+----------+-----+---------+--------+-----------+--------------------+-------------------+-------+--------------------+------------------+------------+\n|CustomerID|Title|FirstName|LastName|CompanyName|        EmailAddress|              Phone|ZipCode|Effective_start_date|Effective_end_date|Current_flag|\n+----------+-----+---------+--------+-----------+--------------------+-------------------+-------+--------------------+------------------+------------+\n|         1|  Mr.|  Pritesh|   Joshi| CloudCover|PriteshJoshi@gmai...|       150-555-0127| 431122|          2023-08-26|        2999-01-01|        true|\n|         2|  Mr.|    Omkar|   Joshi|     Google|OmkarJoshigoofle@...|       926-555-0159| 411046|          2023-08-26|        2999-01-01|        true|\n|         3|  Mr.|  Shubham|    Mule|     Fassos|ShubhamMule@gmail...|       112-555-0191| 431123|          2023-08-26|        2999-01-01|        true|\n|         4|  Mr.|  Kshitij|  Jadhav|      Wipro|KshitijJadhav@gma...|1 (11) 500 555-0132| 431124|          2023-08-26|        2999-01-01|        true|\n|         5|  Mr.|    Vikas|   Yadav| CloudCover|VikasYadav@gmail.com|       440-555-0132| 431131|          2023-08-26|        2999-01-01|        true|\n|         7|  Ms.|    Gauri|Kulkarni|        TCS|GauriKulkarni@gma...|       582-555-0113| 416212|          2023-08-26|        2999-01-01|        true|\n|         8|  Ms.|  Sunidhi|   Patil|  Accenture|SunidhiPatil@gmai...|       928-555-0116| 400016|          2023-08-26|        2999-01-01|        true|\n|         9|  Ms.|  Vasudha|   Sathe|     Google|VasudhaSathe@gmai...|       121-555-5555| 411046|          2023-08-26|        2999-01-01|        true|\n+----------+-----+---------+--------+-----------+--------------------+-------------------+-------+--------------------+------------------+------------+\n\n"
     ]
    }
   ],
   "source": [
    "Df_old_record = column_suffix(df_result.filter(col(\"Action\")==\"Nochange\"),suffix=\"_Current\", append=False).select(df_currect.columns) \\\n",
    "    .withColumn('Effective_start_date',date_format(current_date(), \"yyyy-MM-dd\")) \\\n",
    "    .withColumn('Effective_end_date',lit('2999-01-01')) \\\n",
    "    .withColumn('Current_flag',lit(True))\n",
    "\n",
    "Df_old_record.show()"
   ]
  },
  {
   "cell_type": "code",
   "execution_count": 0,
   "metadata": {
    "application/vnd.databricks.v1+cell": {
     "cellMetadata": {
      "byteLimit": 2048000,
      "rowLimit": 10000
     },
     "inputWidgets": {},
     "nuid": "cf182be1-776f-4c4c-b32f-ac9e2afca239",
     "showTitle": false,
     "title": ""
    }
   },
   "outputs": [
    {
     "output_type": "stream",
     "name": "stdout",
     "output_type": "stream",
     "text": [
      "+----------+-----+---------+--------+-----------+--------------------+-------------------+-------+--------------------+------------------+------------+\n|CustomerID|Title|FirstName|LastName|CompanyName|        EmailAddress|              Phone|ZipCode|Effective_start_date|Effective_end_date|Current_flag|\n+----------+-----+---------+--------+-----------+--------------------+-------------------+-------+--------------------+------------------+------------+\n|        13|  Mr.|   Pushpa|  Tiwari|    Walmart| rahuljain@gmail.com|       346-235-0222| 470139|          2023-08-26|        2999-01-01|       false|\n+----------+-----+---------+--------+-----------+--------------------+-------------------+-------+--------------------+------------------+------------+\n\n"
     ]
    }
   ],
   "source": [
    "Df_deleted_record = column_suffix(df_result.filter(col(\"Action\")==\"Delete\"),suffix=\"_history\", append=False).select(df_currect.columns) \\\n",
    "    .withColumn('Effective_start_date',date_format(current_date(), \"yyyy-MM-dd\")) \\\n",
    "    .withColumn('Effective_end_date',lit('2999-01-01')) \\\n",
    "    .withColumn('Current_flag',lit(False))\n",
    "Df_deleted_record.show()"
   ]
  },
  {
   "cell_type": "code",
   "execution_count": 0,
   "metadata": {
    "application/vnd.databricks.v1+cell": {
     "cellMetadata": {
      "byteLimit": 2048000,
      "rowLimit": 10000
     },
     "inputWidgets": {},
     "nuid": "1009f0ab-ad3f-4792-9af9-83f4f5c06c6b",
     "showTitle": false,
     "title": ""
    }
   },
   "outputs": [
    {
     "output_type": "stream",
     "name": "stdout",
     "output_type": "stream",
     "text": [
      "+----------+-----+---------+--------+-----------+-----------------+-------------------+-------+--------------------+------------------+------------+\n|CustomerID|Title|FirstName|LastName|CompanyName|     EmailAddress|              Phone|ZipCode|Effective_start_date|Effective_end_date|Current_flag|\n+----------+-----+---------+--------+-----------+-----------------+-------------------+-------+--------------------+------------------+------------+\n|        12|  Mr.|  Sandeep|  Tiwari|    Walmart|Sandeep@gmail.com|       346-235-0222| 470139|          2023-08-26|        2023-08-26|       false|\n|        12|  Mr.|  Sandeep|Tripathi|        TCS|Sandeep@gmail.com|       346-235-0222| 470139|          2023-08-26|        2999-01-01|        true|\n+----------+-----+---------+--------+-----------+-----------------+-------------------+-------+--------------------+------------------+------------+\n\n"
     ]
    }
   ],
   "source": [
    "Df_update_record = column_suffix(df_result.filter(col(\"Action\")==\"update\"),suffix=\"_history\", append=False).select(df_currect.columns) \\\n",
    "    .withColumn('Effective_start_date',date_format(current_date(), \"yyyy-MM-dd\")) \\\n",
    "    .withColumn('Effective_end_date',date_format(current_date(), \"yyyy-MM-dd\")) \\\n",
    "    .withColumn('Current_flag',lit(False)) \\\n",
    "    .union (column_suffix(df_result.filter(col(\"Action\")==\"update\"),suffix=\"_Current\", append=False).select(df_currect.columns) \\\n",
    "    .withColumn('Effective_start_date',date_format(current_date(), \"yyyy-MM-dd\")) \\\n",
    "    .withColumn('Effective_end_date',lit('2999-01-01')) \\\n",
    "    .withColumn('Current_flag',lit(True)))\n",
    "\n",
    "Df_update_record.show()"
   ]
  },
  {
   "cell_type": "code",
   "execution_count": 0,
   "metadata": {
    "application/vnd.databricks.v1+cell": {
     "cellMetadata": {
      "byteLimit": 2048000,
      "rowLimit": 10000
     },
     "inputWidgets": {},
     "nuid": "2b46c7b1-cbd3-4de8-8e75-959d56b835a5",
     "showTitle": false,
     "title": ""
    }
   },
   "outputs": [],
   "source": [
    "final_df = Df_New_record.union(Df_deleted_record).union(Df_update_record).union(Df_old_record)\n",
    "\n",
    "final_df.write.mode('overwrite').options(header=True).format('parquet').save('/FileStore/tables/Output1/Customer1.parquet')\n",
    "\n",
    "df= spark.read.format(\"parquet\").options(header=True,inferSchema='True').load('/FileStore/tables/Output/Customer1.parquet')\n"
   ]
  },
  {
   "cell_type": "code",
   "execution_count": 0,
   "metadata": {
    "application/vnd.databricks.v1+cell": {
     "cellMetadata": {},
     "inputWidgets": {},
     "nuid": "15cb0c9a-5e29-426d-b2f5-a9cf3d649f0c",
     "showTitle": false,
     "title": ""
    }
   },
   "outputs": [],
   "source": []
  }
 ],
 "metadata": {
  "application/vnd.databricks.v1+notebook": {
   "dashboards": [],
   "language": "python",
   "notebookMetadata": {
    "mostRecentlyExecutedCommandWithImplicitDF": {
     "commandId": 1932879061138526,
     "dataframes": [
      "_sqldf"
     ]
    },
    "pythonIndentUnit": 4
   },
   "notebookName": "SCD2_main",
   "widgets": {}
  }
 },
 "nbformat": 4,
 "nbformat_minor": 0
}
