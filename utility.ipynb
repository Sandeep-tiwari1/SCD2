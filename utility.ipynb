{
 "cells": [
  {
   "cell_type": "code",
   "execution_count": 0,
   "metadata": {
    "application/vnd.databricks.v1+cell": {
     "cellMetadata": {
      "byteLimit": 2048000,
      "rowLimit": 10000
     },
     "inputWidgets": {},
     "nuid": "e844ab8a-007a-45d1-8e0b-980f992b8da0",
     "showTitle": false,
     "title": ""
    }
   },
   "outputs": [],
   "source": [
    "def get_hash(df, keys_list):\n",
    "    \"\"\"\n",
    "    input:\n",
    "        df: dataframe\n",
    "        key_list: list of columns to be hashed    \n",
    "    output:\n",
    "        df: df with hashed column\n",
    "    \"\"\"\n",
    "    columns = [col(column) for column in keys_list]\n",
    "    if columns:\n",
    "        return df.withColumn(\"hash_md5\", md5(concat_ws(\"\", *columns)))\n",
    "    else:\n",
    "        print('over here ')\n",
    "        return df.withColumn(\"hash_md5\", md5(lit(1)))\n",
    "    \n",
    "def column_suffix(df, suffix, append):\n",
    "    \"\"\"\n",
    "    input:\n",
    "        df: dataframe\n",
    "        suffix: suffix to be appended to column name\n",
    "        append: boolean value \n",
    "                if true append suffix else remove suffix\n",
    "    \n",
    "    output:\n",
    "        df: df with renamed column\n",
    "    \"\"\"\n",
    "    if append:\n",
    "        new_column_names = list(map(lambda x: x+suffix, df.columns))\n",
    "        print(new_column_names)\n",
    "    else:\n",
    "        new_column_names = list(map(lambda x: x.replace(suffix,\"\"), df.columns))\n",
    "    return df.toDF(*new_column_names)"
   ]
  },
  {
   "cell_type": "code",
   "execution_count": 0,
   "metadata": {
    "application/vnd.databricks.v1+cell": {
     "cellMetadata": {
      "byteLimit": 2048000,
      "rowLimit": 10000
     },
     "inputWidgets": {},
     "nuid": "ca5f7603-037a-41de-9599-acd3d8b772eb",
     "showTitle": false,
     "title": ""
    }
   },
   "outputs": [],
   "source": []
  }
 ],
 "metadata": {
  "application/vnd.databricks.v1+notebook": {
   "dashboards": [],
   "language": "python",
   "notebookMetadata": {
    "pythonIndentUnit": 4
   },
   "notebookName": "utility",
   "widgets": {}
  }
 },
 "nbformat": 4,
 "nbformat_minor": 0
}
